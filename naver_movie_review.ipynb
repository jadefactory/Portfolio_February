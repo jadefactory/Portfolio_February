{
  "nbformat": 4,
  "nbformat_minor": 0,
  "metadata": {
    "colab": {
      "name": "05. 네이버 영화 리뷰 분석",
      "provenance": [],
      "collapsed_sections": []
    },
    "kernelspec": {
      "name": "python3",
      "display_name": "Python 3"
    },
    "language_info": {
      "name": "python"
    }
  },
  "cells": [
    {
      "cell_type": "markdown",
      "source": [
        "# 네이버 영화 리뷰 분석"
      ],
      "metadata": {
        "id": "6x-HA2mOCpl6"
      }
    },
    {
      "cell_type": "markdown",
      "source": [
        "## (1) 프로젝트 개요"
      ],
      "metadata": {
        "id": "7X6AEl7FCzBb"
      }
    },
    {
      "cell_type": "markdown",
      "source": [
        "#### 데이터 출처\n",
        "https://movie.naver.com/movie/bi/mi/basic.naver?code=190991"
      ],
      "metadata": {
        "id": "ByMy1wg9C66T"
      }
    },
    {
      "cell_type": "markdown",
      "source": [
        "#### Feature 구성\n",
        "* score : 관객의 평가한 점수\n",
        "* comment : 관객이 작성한 리뷰 내용"
      ],
      "metadata": {
        "id": "DlOy0j3nDJpT"
      }
    },
    {
      "cell_type": "markdown",
      "source": [
        "#### 웹 스크래핑 코드"
      ],
      "metadata": {
        "id": "CCnSRZ3JDatO"
      }
    },
    {
      "cell_type": "code",
      "execution_count": 1,
      "metadata": {
        "id": "1MykbL4cCM4O"
      },
      "outputs": [],
      "source": [
        "# import requests\n",
        "# import math\n",
        "# from bs4 import BeautifulSoup\n",
        "# from openpyxl import Workbook\n",
        "\n",
        "# wb = Workbook(write_only=True)\n",
        "# ws = wb.create_sheet('naver_movie_ratings')\n",
        "# ws.append(['score', 'comment'])\n",
        "\n",
        "# url = 'https://movie.naver.com/movie/bi/mi/pointWriteFormList.naver?code=190991&type=after&isActualPointWriteExecute=false&isMileageSubscriptionAlready=false&isMileageSubscriptionReject=false&page=1'\n",
        "# response = requests.get(url)\n",
        "# review_page = response.text\n",
        "\n",
        "# soup = BeautifulSoup(review_page, 'html.parser')\n",
        "# total_count = soup.select('body > div > div > div.score_total > strong > em')\n",
        "# total_count = int(total_count[0].get_text())\n",
        "\n",
        "# last_page = math.ceil(total_count / 10) + 1\n",
        "\n",
        "# for page in range(1, last_page):\n",
        "#     url = 'https://movie.naver.com/movie/bi/mi/pointWriteFormList.naver?code=190991&type=after&isActualPointWriteExecute=false&isMileageSubscriptionAlready=false&isMileageSubscriptionReject=false&page={}'.format(page)\n",
        "#     response = requests.get(url)\n",
        "#     review_page = response.text\n",
        "#     soup = BeautifulSoup(review_page, 'html.parser')\n",
        "\n",
        "#     for i in range(10):\n",
        "#         review = soup.find('span', {'id': '_filtered_ment_{}'.format(i)})\n",
        "#         if review is None:\n",
        "#             break\n",
        "#         else:\n",
        "#             review = review.get_text().strip()\n",
        "\n",
        "#             score = soup.select('body > div > div > div.score_result > ul > li:nth-child({}) > div.star_score > em'.format(i + 1))\n",
        "#             score = int(score[0].get_text())\n",
        "\n",
        "#             row = [score, review]\n",
        "#             ws.append(row)\n",
        "\n",
        "# wb.save('naver_movie_ratings.xlsx')"
      ]
    },
    {
      "cell_type": "markdown",
      "source": [
        "## (2) EDA 및 데이터 전처리"
      ],
      "metadata": {
        "id": "Ko1u_ApWEfrY"
      }
    },
    {
      "cell_type": "markdown",
      "source": [
        "### 2-1. 데이터 불러오기"
      ],
      "metadata": {
        "id": "crJuOMcpEjHF"
      }
    },
    {
      "cell_type": "code",
      "source": [
        "import pandas as pd\n",
        "import numpy as np\n",
        "import matplotlib.pyplot as plt\n",
        "import seaborn as sns"
      ],
      "metadata": {
        "id": "gcFBRm7ADfwE"
      },
      "execution_count": 2,
      "outputs": []
    },
    {
      "cell_type": "code",
      "source": [
        "df = pd.read_excel('naver_movie_ratings.xlsx')\n",
        "df.head()"
      ],
      "metadata": {
        "colab": {
          "base_uri": "https://localhost:8080/",
          "height": 206
        },
        "id": "bRCxxMl9DoE4",
        "outputId": "abe51ab9-c413-4816-ac52-3a3b8388c1ee"
      },
      "execution_count": 3,
      "outputs": [
        {
          "output_type": "execute_result",
          "data": {
            "text/plain": [
              "   score                                            comment\n",
              "0     10                               최민식이 열고 최민식이 닫았다....\n",
              "1     10                                 파이송 OST 음원 내줘요....\n",
              "2     10  어쩌면 뻔한 스토리일지도 모르지만, 우리가 원하는 세상을 이야기하는 동화. 난롯가처...\n",
              "3      7  초반엔 상당히 신선했는데 말이죠... 리학성의 사연이 드러나면서 부터는 뻔한 결말로...\n",
              "4     10                   역시 최민식! 올해 본 영화 중 제일 감동적이고 재밌었어요"
            ],
            "text/html": [
              "\n",
              "  <div id=\"df-e7cf0ed8-69dc-4932-b8d1-cbdec237ba59\">\n",
              "    <div class=\"colab-df-container\">\n",
              "      <div>\n",
              "<style scoped>\n",
              "    .dataframe tbody tr th:only-of-type {\n",
              "        vertical-align: middle;\n",
              "    }\n",
              "\n",
              "    .dataframe tbody tr th {\n",
              "        vertical-align: top;\n",
              "    }\n",
              "\n",
              "    .dataframe thead th {\n",
              "        text-align: right;\n",
              "    }\n",
              "</style>\n",
              "<table border=\"1\" class=\"dataframe\">\n",
              "  <thead>\n",
              "    <tr style=\"text-align: right;\">\n",
              "      <th></th>\n",
              "      <th>score</th>\n",
              "      <th>comment</th>\n",
              "    </tr>\n",
              "  </thead>\n",
              "  <tbody>\n",
              "    <tr>\n",
              "      <th>0</th>\n",
              "      <td>10</td>\n",
              "      <td>최민식이 열고 최민식이 닫았다....</td>\n",
              "    </tr>\n",
              "    <tr>\n",
              "      <th>1</th>\n",
              "      <td>10</td>\n",
              "      <td>파이송 OST 음원 내줘요....</td>\n",
              "    </tr>\n",
              "    <tr>\n",
              "      <th>2</th>\n",
              "      <td>10</td>\n",
              "      <td>어쩌면 뻔한 스토리일지도 모르지만, 우리가 원하는 세상을 이야기하는 동화. 난롯가처...</td>\n",
              "    </tr>\n",
              "    <tr>\n",
              "      <th>3</th>\n",
              "      <td>7</td>\n",
              "      <td>초반엔 상당히 신선했는데 말이죠... 리학성의 사연이 드러나면서 부터는 뻔한 결말로...</td>\n",
              "    </tr>\n",
              "    <tr>\n",
              "      <th>4</th>\n",
              "      <td>10</td>\n",
              "      <td>역시 최민식! 올해 본 영화 중 제일 감동적이고 재밌었어요</td>\n",
              "    </tr>\n",
              "  </tbody>\n",
              "</table>\n",
              "</div>\n",
              "      <button class=\"colab-df-convert\" onclick=\"convertToInteractive('df-e7cf0ed8-69dc-4932-b8d1-cbdec237ba59')\"\n",
              "              title=\"Convert this dataframe to an interactive table.\"\n",
              "              style=\"display:none;\">\n",
              "        \n",
              "  <svg xmlns=\"http://www.w3.org/2000/svg\" height=\"24px\"viewBox=\"0 0 24 24\"\n",
              "       width=\"24px\">\n",
              "    <path d=\"M0 0h24v24H0V0z\" fill=\"none\"/>\n",
              "    <path d=\"M18.56 5.44l.94 2.06.94-2.06 2.06-.94-2.06-.94-.94-2.06-.94 2.06-2.06.94zm-11 1L8.5 8.5l.94-2.06 2.06-.94-2.06-.94L8.5 2.5l-.94 2.06-2.06.94zm10 10l.94 2.06.94-2.06 2.06-.94-2.06-.94-.94-2.06-.94 2.06-2.06.94z\"/><path d=\"M17.41 7.96l-1.37-1.37c-.4-.4-.92-.59-1.43-.59-.52 0-1.04.2-1.43.59L10.3 9.45l-7.72 7.72c-.78.78-.78 2.05 0 2.83L4 21.41c.39.39.9.59 1.41.59.51 0 1.02-.2 1.41-.59l7.78-7.78 2.81-2.81c.8-.78.8-2.07 0-2.86zM5.41 20L4 18.59l7.72-7.72 1.47 1.35L5.41 20z\"/>\n",
              "  </svg>\n",
              "      </button>\n",
              "      \n",
              "  <style>\n",
              "    .colab-df-container {\n",
              "      display:flex;\n",
              "      flex-wrap:wrap;\n",
              "      gap: 12px;\n",
              "    }\n",
              "\n",
              "    .colab-df-convert {\n",
              "      background-color: #E8F0FE;\n",
              "      border: none;\n",
              "      border-radius: 50%;\n",
              "      cursor: pointer;\n",
              "      display: none;\n",
              "      fill: #1967D2;\n",
              "      height: 32px;\n",
              "      padding: 0 0 0 0;\n",
              "      width: 32px;\n",
              "    }\n",
              "\n",
              "    .colab-df-convert:hover {\n",
              "      background-color: #E2EBFA;\n",
              "      box-shadow: 0px 1px 2px rgba(60, 64, 67, 0.3), 0px 1px 3px 1px rgba(60, 64, 67, 0.15);\n",
              "      fill: #174EA6;\n",
              "    }\n",
              "\n",
              "    [theme=dark] .colab-df-convert {\n",
              "      background-color: #3B4455;\n",
              "      fill: #D2E3FC;\n",
              "    }\n",
              "\n",
              "    [theme=dark] .colab-df-convert:hover {\n",
              "      background-color: #434B5C;\n",
              "      box-shadow: 0px 1px 3px 1px rgba(0, 0, 0, 0.15);\n",
              "      filter: drop-shadow(0px 1px 2px rgba(0, 0, 0, 0.3));\n",
              "      fill: #FFFFFF;\n",
              "    }\n",
              "  </style>\n",
              "\n",
              "      <script>\n",
              "        const buttonEl =\n",
              "          document.querySelector('#df-e7cf0ed8-69dc-4932-b8d1-cbdec237ba59 button.colab-df-convert');\n",
              "        buttonEl.style.display =\n",
              "          google.colab.kernel.accessAllowed ? 'block' : 'none';\n",
              "\n",
              "        async function convertToInteractive(key) {\n",
              "          const element = document.querySelector('#df-e7cf0ed8-69dc-4932-b8d1-cbdec237ba59');\n",
              "          const dataTable =\n",
              "            await google.colab.kernel.invokeFunction('convertToInteractive',\n",
              "                                                     [key], {});\n",
              "          if (!dataTable) return;\n",
              "\n",
              "          const docLinkHtml = 'Like what you see? Visit the ' +\n",
              "            '<a target=\"_blank\" href=https://colab.research.google.com/notebooks/data_table.ipynb>data table notebook</a>'\n",
              "            + ' to learn more about interactive tables.';\n",
              "          element.innerHTML = '';\n",
              "          dataTable['output_type'] = 'display_data';\n",
              "          await google.colab.output.renderOutput(dataTable, element);\n",
              "          const docLink = document.createElement('div');\n",
              "          docLink.innerHTML = docLinkHtml;\n",
              "          element.appendChild(docLink);\n",
              "        }\n",
              "      </script>\n",
              "    </div>\n",
              "  </div>\n",
              "  "
            ]
          },
          "metadata": {},
          "execution_count": 3
        }
      ]
    },
    {
      "cell_type": "markdown",
      "source": [
        "### 2-2. 데이터 탐색"
      ],
      "metadata": {
        "id": "0GCU4ya9EvNg"
      }
    },
    {
      "cell_type": "code",
      "source": [
        "df.shape"
      ],
      "metadata": {
        "colab": {
          "base_uri": "https://localhost:8080/"
        },
        "id": "Y56NNaYmEYKm",
        "outputId": "8b57760d-ef7f-4f5e-d508-ddfd66faca57"
      },
      "execution_count": 4,
      "outputs": [
        {
          "output_type": "execute_result",
          "data": {
            "text/plain": [
              "(909, 2)"
            ]
          },
          "metadata": {},
          "execution_count": 4
        }
      ]
    },
    {
      "cell_type": "code",
      "source": [
        "df.isnull().sum()"
      ],
      "metadata": {
        "colab": {
          "base_uri": "https://localhost:8080/"
        },
        "id": "r1v-dhxJE1KD",
        "outputId": "c45d42fc-a72c-44fd-a22b-9a0a768f8bc1"
      },
      "execution_count": 5,
      "outputs": [
        {
          "output_type": "execute_result",
          "data": {
            "text/plain": [
              "score       0\n",
              "comment    65\n",
              "dtype: int64"
            ]
          },
          "metadata": {},
          "execution_count": 5
        }
      ]
    },
    {
      "cell_type": "code",
      "source": [
        "df = df.dropna(axis=0).copy()"
      ],
      "metadata": {
        "id": "KTvneru9E2XL"
      },
      "execution_count": 6,
      "outputs": []
    },
    {
      "cell_type": "code",
      "source": [
        "df.info()"
      ],
      "metadata": {
        "colab": {
          "base_uri": "https://localhost:8080/"
        },
        "id": "vnHhxT8aE5NQ",
        "outputId": "7b70aaf8-0788-4940-a1b1-a07c3a2eeb43"
      },
      "execution_count": 7,
      "outputs": [
        {
          "output_type": "stream",
          "name": "stdout",
          "text": [
            "<class 'pandas.core.frame.DataFrame'>\n",
            "Int64Index: 844 entries, 0 to 908\n",
            "Data columns (total 2 columns):\n",
            " #   Column   Non-Null Count  Dtype \n",
            "---  ------   --------------  ----- \n",
            " 0   score    844 non-null    int64 \n",
            " 1   comment  844 non-null    object\n",
            "dtypes: int64(1), object(1)\n",
            "memory usage: 19.8+ KB\n"
          ]
        }
      ]
    },
    {
      "cell_type": "markdown",
      "source": [
        "### 2-3. 한국어 텍스트 데이터 전처리"
      ],
      "metadata": {
        "id": "v7_VR9nHE9cv"
      }
    },
    {
      "cell_type": "code",
      "source": [
        "# konlpy 설치\n",
        "!pip install konlpy==0.5.1 jpype1 Jpype1-py3"
      ],
      "metadata": {
        "colab": {
          "base_uri": "https://localhost:8080/"
        },
        "id": "exVASUX4E6YR",
        "outputId": "048f5f7e-7d99-4903-d7e4-1834694bac50"
      },
      "execution_count": 8,
      "outputs": [
        {
          "output_type": "stream",
          "name": "stdout",
          "text": [
            "Requirement already satisfied: konlpy==0.5.1 in /usr/local/lib/python3.7/dist-packages (0.5.1)\n",
            "Requirement already satisfied: jpype1 in /usr/local/lib/python3.7/dist-packages (1.3.0)\n",
            "Requirement already satisfied: Jpype1-py3 in /usr/local/lib/python3.7/dist-packages (0.5.5.4)\n",
            "Requirement already satisfied: typing-extensions in /usr/local/lib/python3.7/dist-packages (from jpype1) (3.10.0.2)\n"
          ]
        }
      ]
    },
    {
      "cell_type": "markdown",
      "source": [
        "정규표현식 적용"
      ],
      "metadata": {
        "id": "WRWLl8u3FEfu"
      }
    },
    {
      "cell_type": "code",
      "source": [
        "# 텍스트에서 한글만 추출하기(공백 문자는 하나만 포함) => 한글과 공백이 아닌 문자를 찾아서 모두 ''으로 치환\n",
        "import re\n",
        "\n",
        "def apply_regular_expression(text):\n",
        "    hangul = re.compile('[^ ㄱ-ㅣ가-힣]')\n",
        "    result = hangul.sub('', text)\n",
        "    return result"
      ],
      "metadata": {
        "id": "GlRXOdW0FAq7"
      },
      "execution_count": 9,
      "outputs": []
    },
    {
      "cell_type": "code",
      "source": [
        "apply_regular_expression(df['comment'][0])"
      ],
      "metadata": {
        "colab": {
          "base_uri": "https://localhost:8080/",
          "height": 35
        },
        "id": "vtD_X7GcFLNq",
        "outputId": "0acd7276-6395-4304-9422-4529f78696bf"
      },
      "execution_count": 10,
      "outputs": [
        {
          "output_type": "execute_result",
          "data": {
            "text/plain": [
              "'최민식이 열고 최민식이 닫았다'"
            ],
            "application/vnd.google.colaboratory.intrinsic+json": {
              "type": "string"
            }
          },
          "metadata": {},
          "execution_count": 10
        }
      ]
    },
    {
      "cell_type": "markdown",
      "source": [
        "명사 형태소 추출"
      ],
      "metadata": {
        "id": "kePasxZrFO-p"
      }
    },
    {
      "cell_type": "code",
      "source": [
        "from konlpy.tag import Okt\n",
        "from collections import Counter\n",
        "\n",
        "nouns_tagger = Okt()\n",
        "\n",
        "# 명사만 추출하기 => Okt().nouns(text)\n",
        "nouns = nouns_tagger.nouns(apply_regular_expression(df['comment'][0]))"
      ],
      "metadata": {
        "id": "QoTVLg0JFMvo"
      },
      "execution_count": 11,
      "outputs": []
    },
    {
      "cell_type": "code",
      "source": [
        "nouns"
      ],
      "metadata": {
        "colab": {
          "base_uri": "https://localhost:8080/"
        },
        "id": "sN-FkZsbFZ6e",
        "outputId": "67852513-05b7-4388-9835-4c6bf0df14a9"
      },
      "execution_count": 12,
      "outputs": [
        {
          "output_type": "execute_result",
          "data": {
            "text/plain": [
              "['최민식', '최민식']"
            ]
          },
          "metadata": {},
          "execution_count": 12
        }
      ]
    },
    {
      "cell_type": "code",
      "source": [
        "# 전체 말뭉치(corpus)에서 명사 형태소 추출\n",
        "nouns = nouns_tagger.nouns(apply_regular_expression(\"\".join(df['comment'].tolist())))"
      ],
      "metadata": {
        "id": "oqf-7jGXFcOO"
      },
      "execution_count": 13,
      "outputs": []
    },
    {
      "cell_type": "code",
      "source": [
        "# 빈도 탐색\n",
        "counter = Counter(nouns)\n",
        "counter.most_common(10)"
      ],
      "metadata": {
        "colab": {
          "base_uri": "https://localhost:8080/"
        },
        "id": "LEVjLAKAFeiA",
        "outputId": "8e3018a4-836b-4961-f5b3-494c3945f5a6"
      },
      "execution_count": 14,
      "outputs": [
        {
          "output_type": "execute_result",
          "data": {
            "text/plain": [
              "[('영화', 378),\n",
              " ('최민식', 245),\n",
              " ('연기', 198),\n",
              " ('수학', 176),\n",
              " ('감동', 159),\n",
              " ('배우', 150),\n",
              " ('스토리', 102),\n",
              " ('역시', 61),\n",
              " ('수', 51),\n",
              " ('정말', 50)]"
            ]
          },
          "metadata": {},
          "execution_count": 14
        }
      ]
    },
    {
      "cell_type": "code",
      "source": [
        "# 한 글자 길이의 명사 제거\n",
        "available_counter = Counter({x : counter[x] for x in counter if len(x) > 1})\n",
        "available_counter.most_common(10)"
      ],
      "metadata": {
        "colab": {
          "base_uri": "https://localhost:8080/"
        },
        "id": "N2Y2a39xFgqY",
        "outputId": "0420145c-f6fa-4bfb-c768-77010b371f68"
      },
      "execution_count": 15,
      "outputs": [
        {
          "output_type": "execute_result",
          "data": {
            "text/plain": [
              "[('영화', 378),\n",
              " ('최민식', 245),\n",
              " ('연기', 198),\n",
              " ('수학', 176),\n",
              " ('감동', 159),\n",
              " ('배우', 150),\n",
              " ('스토리', 102),\n",
              " ('역시', 61),\n",
              " ('정말', 50),\n",
              " ('진짜', 46)]"
            ]
          },
          "metadata": {},
          "execution_count": 15
        }
      ]
    },
    {
      "cell_type": "markdown",
      "source": [
        "불용어 사전"
      ],
      "metadata": {
        "id": "rpuMLyYEFvgB"
      }
    },
    {
      "cell_type": "code",
      "source": [
        "stopwords = ['가장', '역시', '정말', '모두', '내내', '영화', '느낌', '조금', '그냥', '흐름', '정형']"
      ],
      "metadata": {
        "id": "OycSf2w2FqDG"
      },
      "execution_count": 16,
      "outputs": []
    },
    {
      "cell_type": "markdown",
      "source": [
        "## (3) 텍스트 분석"
      ],
      "metadata": {
        "id": "wJryVgd1GUOa"
      }
    },
    {
      "cell_type": "markdown",
      "source": [
        "### 3-1. Word Count"
      ],
      "metadata": {
        "id": "mzN8X-AkF_R1"
      }
    },
    {
      "cell_type": "code",
      "source": [
        "# BoW(Bag of Words) 벡터 생성 => 불용어가 아닌 형태소 추출\n",
        "# BoW 인코딩은 문서를 숫자 벡터로 변환하는 가장 기본적인 방법\n",
        "# CountVectorizer는 문서 집합에서 단어 토큰을 생성하고 각 단어의 수를 세어 BoW 인코딩 벡터를 생성\n",
        "# fit_transform 함수를 통해 Counter Vector로 만들 수 있음\n",
        "\n",
        "from sklearn.feature_extraction.text import CountVectorizer\n",
        "\n",
        "def text_cleaning(text):\n",
        "    hangul = re.compile('[^ ㄱ-ㅣ가-힣]')\n",
        "    result = hangul.sub('', text)\n",
        "\n",
        "    nouns_tagger = Okt()\n",
        "    nouns = nouns_tagger.nouns(result)\n",
        "\n",
        "    nouns = [x for x in nouns if len(x) > 1]\n",
        "    nouns = [x for x in nouns if x not in stopwords]\n",
        "\n",
        "    return nouns\n",
        "\n",
        "vect = CountVectorizer(tokenizer = lambda x: text_cleaning(x))\n",
        "bow_vect = vect.fit_transform(df['comment'].tolist())\n",
        "word_list = vect.get_feature_names()\n",
        "count_list = bow_vect.toarray().sum(axis=0)"
      ],
      "metadata": {
        "colab": {
          "base_uri": "https://localhost:8080/"
        },
        "id": "SLqoW_SUF9Va",
        "outputId": "203fdbfe-60c7-4f41-9ef9-abce69cee839"
      },
      "execution_count": 17,
      "outputs": [
        {
          "output_type": "stream",
          "name": "stderr",
          "text": [
            "/usr/local/lib/python3.7/dist-packages/sklearn/utils/deprecation.py:87: FutureWarning: Function get_feature_names is deprecated; get_feature_names is deprecated in 1.0 and will be removed in 1.2. Please use get_feature_names_out instead.\n",
            "  warnings.warn(msg, category=FutureWarning)\n"
          ]
        }
      ]
    },
    {
      "cell_type": "code",
      "source": [
        "word_list[:10]"
      ],
      "metadata": {
        "colab": {
          "base_uri": "https://localhost:8080/"
        },
        "id": "R81y-NrAGgUu",
        "outputId": "1e28712d-a5b6-4424-9c17-c3ca0577eab4"
      },
      "execution_count": 18,
      "outputs": [
        {
          "output_type": "execute_result",
          "data": {
            "text/plain": [
              "['가능', '가다가', '가뜩이나', '가라', '가면', '가무', '가미', '가설', '가슴', '가족']"
            ]
          },
          "metadata": {},
          "execution_count": 18
        }
      ]
    },
    {
      "cell_type": "code",
      "source": [
        "count_list[:10]"
      ],
      "metadata": {
        "colab": {
          "base_uri": "https://localhost:8080/"
        },
        "id": "UeuVoUSUGnEm",
        "outputId": "b41d32e4-b6e6-4179-a0c9-59096ad133b4"
      },
      "execution_count": 19,
      "outputs": [
        {
          "output_type": "execute_result",
          "data": {
            "text/plain": [
              "array([ 1,  2,  1,  1,  2,  1,  1,  1, 14, 23])"
            ]
          },
          "metadata": {},
          "execution_count": 19
        }
      ]
    },
    {
      "cell_type": "code",
      "source": [
        "# 844개의 문장에서 1235개의 단어가 사용됨\n",
        "bow_vect.shape"
      ],
      "metadata": {
        "colab": {
          "base_uri": "https://localhost:8080/"
        },
        "id": "vM_uy2QfGwAd",
        "outputId": "809d6344-dd56-4ccc-e277-7c632b8a9ca5"
      },
      "execution_count": 20,
      "outputs": [
        {
          "output_type": "execute_result",
          "data": {
            "text/plain": [
              "(844, 1235)"
            ]
          },
          "metadata": {},
          "execution_count": 20
        }
      ]
    },
    {
      "cell_type": "code",
      "source": [
        "bow_vect.toarray()"
      ],
      "metadata": {
        "colab": {
          "base_uri": "https://localhost:8080/"
        },
        "id": "n7hgc4PzGzAA",
        "outputId": "bbfbed00-4f60-4d2d-c7d9-54d5c9730512"
      },
      "execution_count": 21,
      "outputs": [
        {
          "output_type": "execute_result",
          "data": {
            "text/plain": [
              "array([[0, 0, 0, ..., 0, 0, 0],\n",
              "       [0, 0, 0, ..., 0, 0, 0],\n",
              "       [0, 0, 0, ..., 0, 0, 0],\n",
              "       ...,\n",
              "       [0, 0, 0, ..., 0, 0, 0],\n",
              "       [0, 0, 0, ..., 0, 0, 0],\n",
              "       [0, 0, 0, ..., 0, 0, 0]])"
            ]
          },
          "metadata": {},
          "execution_count": 21
        }
      ]
    },
    {
      "cell_type": "code",
      "source": [
        "bow_vect.toarray().sum(axis=0)[:10]"
      ],
      "metadata": {
        "colab": {
          "base_uri": "https://localhost:8080/"
        },
        "id": "r3x1a9glG86n",
        "outputId": "bcc4dc55-dd68-44ae-96c7-d9f01b95d37e"
      },
      "execution_count": 22,
      "outputs": [
        {
          "output_type": "execute_result",
          "data": {
            "text/plain": [
              "array([ 1,  2,  1,  1,  2,  1,  1,  1, 14, 23])"
            ]
          },
          "metadata": {},
          "execution_count": 22
        }
      ]
    },
    {
      "cell_type": "code",
      "source": [
        "word_count_dict = dict(zip(word_list, count_list))"
      ],
      "metadata": {
        "id": "R54BSSfqHDOL"
      },
      "execution_count": 23,
      "outputs": []
    },
    {
      "cell_type": "code",
      "source": [
        "for index, (key, value) in enumerate(word_count_dict.items()):\n",
        "    if index >= 10:\n",
        "        break\n",
        "    else:\n",
        "        print(index, key, value)"
      ],
      "metadata": {
        "colab": {
          "base_uri": "https://localhost:8080/"
        },
        "id": "f4isXe93vL2G",
        "outputId": "16ea90e7-b325-4905-e920-6b4ade7b3494"
      },
      "execution_count": 24,
      "outputs": [
        {
          "output_type": "stream",
          "name": "stdout",
          "text": [
            "0 가능 1\n",
            "1 가다가 2\n",
            "2 가뜩이나 1\n",
            "3 가라 1\n",
            "4 가면 2\n",
            "5 가무 1\n",
            "6 가미 1\n",
            "7 가설 1\n",
            "8 가슴 14\n",
            "9 가족 23\n"
          ]
        }
      ]
    },
    {
      "cell_type": "markdown",
      "source": [
        "### 3-2. TF-IDF"
      ],
      "metadata": {
        "id": "hQATXP2gHRdm"
      }
    },
    {
      "cell_type": "code",
      "source": [
        "# TF-IDF(Term Frequency-Inverse Document Frequency) 변환 => 문서 안에서 각각의 단어의 중요도 측정\n",
        "# 단어를 갯수 그대로 카운트하지 않고 모든 문서에 공통적으로 들어있는 단어의 경우 문서 구별 능력이 떨어진다고 보아 가중치를 축소하는 방법\n",
        "\n",
        "# TF: 특정 문서에서 특정 단어의 등장 횟수\n",
        "# DF: 특정 단어가 등장한 문서의 수\n",
        "# IDF: DF와 반비례 값을 가지는 수식\n",
        "# TF-IDF: TF와 IDF를 곱한 값\n",
        "\n",
        "from sklearn.feature_extraction.text import TfidfTransformer\n",
        "\n",
        "tfidf_vectorizer = TfidfTransformer()\n",
        "tf_idf_vect = tfidf_vectorizer.fit_transform(bow_vect)"
      ],
      "metadata": {
        "id": "sc9e0f4gHGTx"
      },
      "execution_count": 25,
      "outputs": []
    },
    {
      "cell_type": "code",
      "source": [
        "print(tf_idf_vect.shape)\n",
        "print('=' * 40)\n",
        "print(tf_idf_vect)"
      ],
      "metadata": {
        "colab": {
          "base_uri": "https://localhost:8080/"
        },
        "id": "YTVQrUK5HVXO",
        "outputId": "ed474f12-ec28-4b59-87ba-b87538106cb8"
      },
      "execution_count": 26,
      "outputs": [
        {
          "output_type": "stream",
          "name": "stdout",
          "text": [
            "(844, 1235)\n",
            "========================================\n",
            "  (0, 1057)\t1.0\n",
            "  (1, 1106)\t0.5697467643582297\n",
            "  (1, 781)\t0.8218203115665419\n",
            "  (2, 1035)\t0.3739674541423643\n",
            "  (2, 844)\t0.39680092026583574\n",
            "  (2, 806)\t0.26438497076892264\n",
            "  (2, 750)\t0.28721843689239396\n",
            "  (2, 667)\t0.39680092026583574\n",
            "  (2, 588)\t0.17763595351895228\n",
            "  (2, 552)\t0.32625250505115927\n",
            "  (2, 269)\t0.31209991986012764\n",
            "  (2, 178)\t0.39680092026583574\n",
            "  (3, 1046)\t0.2897205019827562\n",
            "  (3, 545)\t0.39215361658005865\n",
            "  (3, 502)\t0.4160974818020007\n",
            "  (3, 448)\t0.2646299436882588\n",
            "  (3, 317)\t0.36198791392703406\n",
            "  (3, 55)\t0.6023719311838591\n",
            "  (3, 21)\t0.1588214625553021\n",
            "  (4, 1057)\t0.25068568223010845\n",
            "  (4, 947)\t0.6429926645916713\n",
            "  (4, 736)\t0.6627034511016395\n",
            "  (4, 21)\t0.2907597941671171\n",
            "  (5, 1164)\t0.21231925393220022\n",
            "  (5, 1057)\t0.1098638372140284\n",
            "  :\t:\n",
            "  (836, 21)\t0.3486108657399019\n",
            "  (838, 1057)\t0.2536723652913049\n",
            "  (838, 743)\t0.7708393515041336\n",
            "  (838, 445)\t0.5843432426752287\n",
            "  (839, 80)\t1.0\n",
            "  (840, 1093)\t0.7908563164278427\n",
            "  (840, 170)\t0.6120018682701744\n",
            "  (841, 901)\t0.5664154831559709\n",
            "  (841, 814)\t0.5664154831559709\n",
            "  (841, 448)\t0.36022928272141685\n",
            "  (841, 409)\t0.4781023580284765\n",
            "  (842, 1195)\t0.27836439814727315\n",
            "  (842, 1112)\t0.25098115800011095\n",
            "  (842, 1038)\t0.21478248352052967\n",
            "  (842, 1018)\t0.15808851535675783\n",
            "  (842, 983)\t0.27836439814727315\n",
            "  (842, 542)\t0.22887316428541415\n",
            "  (842, 497)\t0.20148992413825195\n",
            "  (842, 477)\t0.5746847417528544\n",
            "  (842, 409)\t0.23496298936577897\n",
            "  (842, 405)\t0.27836439814727315\n",
            "  (842, 120)\t0.27836439814727315\n",
            "  (842, 82)\t0.27836439814727315\n",
            "  (843, 891)\t0.8295344725066294\n",
            "  (843, 214)\t0.5584555120357826\n"
          ]
        }
      ]
    },
    {
      "cell_type": "markdown",
      "source": [
        "### 3-3. 모델 학습"
      ],
      "metadata": {
        "id": "9DrSk0XQHoTK"
      }
    },
    {
      "cell_type": "markdown",
      "source": [
        "\b긍정/부정 데이터 레이블링"
      ],
      "metadata": {
        "id": "z9GDVcbfHtr7"
      }
    },
    {
      "cell_type": "code",
      "source": [
        "df.score.hist();"
      ],
      "metadata": {
        "colab": {
          "base_uri": "https://localhost:8080/",
          "height": 265
        },
        "id": "1zXfCectHW0B",
        "outputId": "13b1f2d5-0d07-47d6-9013-ecb269238328"
      },
      "execution_count": 27,
      "outputs": [
        {
          "output_type": "display_data",
          "data": {
            "text/plain": [
              "<Figure size 432x288 with 1 Axes>"
            ],
            "image/png": "[encoded data removed]"
          },
          "metadata": {
            "needs_background": "light"
          }
        }
      ]
    },
    {
      "cell_type": "code",
      "source": [
        "# 관람객 평점 : 8.30\n",
        "# score가 평균보다 높으면 긍정적인 반응으로 보고, 평균보다 낮으면 부정적인 반응으로 분류\n",
        "# score 데이터 이진 변환\n",
        "\n",
        "def rating_to_label(rating):\n",
        "    if rating > 8.3:\n",
        "        return 1\n",
        "    else:\n",
        "        return 0\n",
        "\n",
        "df['is_positive'] = df['score'].apply(lambda x: rating_to_label(x))"
      ],
      "metadata": {
        "id": "vTKnE_-BH1mz"
      },
      "execution_count": 28,
      "outputs": []
    },
    {
      "cell_type": "code",
      "source": [
        "df.head()"
      ],
      "metadata": {
        "colab": {
          "base_uri": "https://localhost:8080/",
          "height": 206
        },
        "id": "tnmmeK_aIQYj",
        "outputId": "2f2c72f3-c94f-4f83-c68b-ba153621dfdf"
      },
      "execution_count": 29,
      "outputs": [
        {
          "output_type": "execute_result",
          "data": {
            "text/plain": [
              "   score                                            comment  is_positive\n",
              "0     10                               최민식이 열고 최민식이 닫았다....            1\n",
              "1     10                                 파이송 OST 음원 내줘요....            1\n",
              "2     10  어쩌면 뻔한 스토리일지도 모르지만, 우리가 원하는 세상을 이야기하는 동화. 난롯가처...            1\n",
              "3      7  초반엔 상당히 신선했는데 말이죠... 리학성의 사연이 드러나면서 부터는 뻔한 결말로...            0\n",
              "4     10                   역시 최민식! 올해 본 영화 중 제일 감동적이고 재밌었어요            1"
            ],
            "text/html": [
              "\n",
              "  <div id=\"df-cb206b67-1444-4e32-a5c7-bf3225f32fbb\">\n",
              "    <div class=\"colab-df-container\">\n",
              "      <div>\n",
              "<style scoped>\n",
              "    .dataframe tbody tr th:only-of-type {\n",
              "        vertical-align: middle;\n",
              "    }\n",
              "\n",
              "    .dataframe tbody tr th {\n",
              "        vertical-align: top;\n",
              "    }\n",
              "\n",
              "    .dataframe thead th {\n",
              "        text-align: right;\n",
              "    }\n",
              "</style>\n",
              "<table border=\"1\" class=\"dataframe\">\n",
              "  <thead>\n",
              "    <tr style=\"text-align: right;\">\n",
              "      <th></th>\n",
              "      <th>score</th>\n",
              "      <th>comment</th>\n",
              "      <th>is_positive</th>\n",
              "    </tr>\n",
              "  </thead>\n",
              "  <tbody>\n",
              "    <tr>\n",
              "      <th>0</th>\n",
              "      <td>10</td>\n",
              "      <td>최민식이 열고 최민식이 닫았다....</td>\n",
              "      <td>1</td>\n",
              "    </tr>\n",
              "    <tr>\n",
              "      <th>1</th>\n",
              "      <td>10</td>\n",
              "      <td>파이송 OST 음원 내줘요....</td>\n",
              "      <td>1</td>\n",
              "    </tr>\n",
              "    <tr>\n",
              "      <th>2</th>\n",
              "      <td>10</td>\n",
              "      <td>어쩌면 뻔한 스토리일지도 모르지만, 우리가 원하는 세상을 이야기하는 동화. 난롯가처...</td>\n",
              "      <td>1</td>\n",
              "    </tr>\n",
              "    <tr>\n",
              "      <th>3</th>\n",
              "      <td>7</td>\n",
              "      <td>초반엔 상당히 신선했는데 말이죠... 리학성의 사연이 드러나면서 부터는 뻔한 결말로...</td>\n",
              "      <td>0</td>\n",
              "    </tr>\n",
              "    <tr>\n",
              "      <th>4</th>\n",
              "      <td>10</td>\n",
              "      <td>역시 최민식! 올해 본 영화 중 제일 감동적이고 재밌었어요</td>\n",
              "      <td>1</td>\n",
              "    </tr>\n",
              "  </tbody>\n",
              "</table>\n",
              "</div>\n",
              "      <button class=\"colab-df-convert\" onclick=\"convertToInteractive('df-cb206b67-1444-4e32-a5c7-bf3225f32fbb')\"\n",
              "              title=\"Convert this dataframe to an interactive table.\"\n",
              "              style=\"display:none;\">\n",
              "        \n",
              "  <svg xmlns=\"http://www.w3.org/2000/svg\" height=\"24px\"viewBox=\"0 0 24 24\"\n",
              "       width=\"24px\">\n",
              "    <path d=\"M0 0h24v24H0V0z\" fill=\"none\"/>\n",
              "    <path d=\"M18.56 5.44l.94 2.06.94-2.06 2.06-.94-2.06-.94-.94-2.06-.94 2.06-2.06.94zm-11 1L8.5 8.5l.94-2.06 2.06-.94-2.06-.94L8.5 2.5l-.94 2.06-2.06.94zm10 10l.94 2.06.94-2.06 2.06-.94-2.06-.94-.94-2.06-.94 2.06-2.06.94z\"/><path d=\"M17.41 7.96l-1.37-1.37c-.4-.4-.92-.59-1.43-.59-.52 0-1.04.2-1.43.59L10.3 9.45l-7.72 7.72c-.78.78-.78 2.05 0 2.83L4 21.41c.39.39.9.59 1.41.59.51 0 1.02-.2 1.41-.59l7.78-7.78 2.81-2.81c.8-.78.8-2.07 0-2.86zM5.41 20L4 18.59l7.72-7.72 1.47 1.35L5.41 20z\"/>\n",
              "  </svg>\n",
              "      </button>\n",
              "      \n",
              "  <style>\n",
              "    .colab-df-container {\n",
              "      display:flex;\n",
              "      flex-wrap:wrap;\n",
              "      gap: 12px;\n",
              "    }\n",
              "\n",
              "    .colab-df-convert {\n",
              "      background-color: #E8F0FE;\n",
              "      border: none;\n",
              "      border-radius: 50%;\n",
              "      cursor: pointer;\n",
              "      display: none;\n",
              "      fill: #1967D2;\n",
              "      height: 32px;\n",
              "      padding: 0 0 0 0;\n",
              "      width: 32px;\n",
              "    }\n",
              "\n",
              "    .colab-df-convert:hover {\n",
              "      background-color: #E2EBFA;\n",
              "      box-shadow: 0px 1px 2px rgba(60, 64, 67, 0.3), 0px 1px 3px 1px rgba(60, 64, 67, 0.15);\n",
              "      fill: #174EA6;\n",
              "    }\n",
              "\n",
              "    [theme=dark] .colab-df-convert {\n",
              "      background-color: #3B4455;\n",
              "      fill: #D2E3FC;\n",
              "    }\n",
              "\n",
              "    [theme=dark] .colab-df-convert:hover {\n",
              "      background-color: #434B5C;\n",
              "      box-shadow: 0px 1px 3px 1px rgba(0, 0, 0, 0.15);\n",
              "      filter: drop-shadow(0px 1px 2px rgba(0, 0, 0, 0.3));\n",
              "      fill: #FFFFFF;\n",
              "    }\n",
              "  </style>\n",
              "\n",
              "      <script>\n",
              "        const buttonEl =\n",
              "          document.querySelector('#df-cb206b67-1444-4e32-a5c7-bf3225f32fbb button.colab-df-convert');\n",
              "        buttonEl.style.display =\n",
              "          google.colab.kernel.accessAllowed ? 'block' : 'none';\n",
              "\n",
              "        async function convertToInteractive(key) {\n",
              "          const element = document.querySelector('#df-cb206b67-1444-4e32-a5c7-bf3225f32fbb');\n",
              "          const dataTable =\n",
              "            await google.colab.kernel.invokeFunction('convertToInteractive',\n",
              "                                                     [key], {});\n",
              "          if (!dataTable) return;\n",
              "\n",
              "          const docLinkHtml = 'Like what you see? Visit the ' +\n",
              "            '<a target=\"_blank\" href=https://colab.research.google.com/notebooks/data_table.ipynb>data table notebook</a>'\n",
              "            + ' to learn more about interactive tables.';\n",
              "          element.innerHTML = '';\n",
              "          dataTable['output_type'] = 'display_data';\n",
              "          await google.colab.output.renderOutput(dataTable, element);\n",
              "          const docLink = document.createElement('div');\n",
              "          docLink.innerHTML = docLinkHtml;\n",
              "          element.appendChild(docLink);\n",
              "        }\n",
              "      </script>\n",
              "    </div>\n",
              "  </div>\n",
              "  "
            ]
          },
          "metadata": {},
          "execution_count": 29
        }
      ]
    },
    {
      "cell_type": "code",
      "source": [
        "df.is_positive.value_counts()"
      ],
      "metadata": {
        "colab": {
          "base_uri": "https://localhost:8080/"
        },
        "id": "JTmy7nxkIR3c",
        "outputId": "26af8392-6b45-4414-975e-948a0be10620"
      },
      "execution_count": 30,
      "outputs": [
        {
          "output_type": "execute_result",
          "data": {
            "text/plain": [
              "1    562\n",
              "0    282\n",
              "Name: is_positive, dtype: int64"
            ]
          },
          "metadata": {},
          "execution_count": 30
        }
      ]
    },
    {
      "cell_type": "markdown",
      "source": [
        "학습/테스트 데이터 분리"
      ],
      "metadata": {
        "id": "bbjR3YxsIdAo"
      }
    },
    {
      "cell_type": "code",
      "source": [
        "from sklearn.model_selection import train_test_split\n",
        "\n",
        "y = df['is_positive']\n",
        "x_train, x_test, y_train, y_test = train_test_split(tf_idf_vect, y, test_size=0.2, stratify=y)"
      ],
      "metadata": {
        "id": "HGhdWB8JIUn4"
      },
      "execution_count": 31,
      "outputs": []
    },
    {
      "cell_type": "code",
      "source": [
        "print(x_train.shape)\n",
        "print(x_test.shape)"
      ],
      "metadata": {
        "colab": {
          "base_uri": "https://localhost:8080/"
        },
        "id": "wYSccTXaIzB4",
        "outputId": "9fe8ef58-95b3-4e06-ea19-81ff80f2253e"
      },
      "execution_count": 32,
      "outputs": [
        {
          "output_type": "stream",
          "name": "stdout",
          "text": [
            "(675, 1235)\n",
            "(169, 1235)\n"
          ]
        }
      ]
    },
    {
      "cell_type": "code",
      "source": [
        "from sklearn.linear_model import LogisticRegression\n",
        "from sklearn.metrics import accuracy_score, precision_score, recall_score, f1_score\n",
        "\n",
        "# Logistic Regression 모델 학습\n",
        "lr = LogisticRegression(random_state=0)\n",
        "lr.fit(x_train, y_train)\n",
        "\n",
        "# 분류 예측 결과\n",
        "y_pred = lr.predict(x_test)"
      ],
      "metadata": {
        "id": "gheDFGtWI0ep"
      },
      "execution_count": 33,
      "outputs": []
    },
    {
      "cell_type": "markdown",
      "source": [
        "모델 성능 측정"
      ],
      "metadata": {
        "id": "558I4RJJJGMU"
      }
    },
    {
      "cell_type": "code",
      "source": [
        "from sklearn.metrics import accuracy_score, classification_report"
      ],
      "metadata": {
        "id": "PBSjPfMhJIqP"
      },
      "execution_count": 34,
      "outputs": []
    },
    {
      "cell_type": "code",
      "source": [
        "print(\"Accuracy score: {}\".format(accuracy_score(y_test, y_pred)))\n",
        "print(\"=\"*60)\n",
        "print(classification_report(y_test, y_pred))"
      ],
      "metadata": {
        "colab": {
          "base_uri": "https://localhost:8080/"
        },
        "id": "UhwS4M_pJLq_",
        "outputId": "e7fcb320-cc03-4a8e-d9fd-03672453ff37"
      },
      "execution_count": 35,
      "outputs": [
        {
          "output_type": "stream",
          "name": "stdout",
          "text": [
            "Accuracy score: 0.6923076923076923\n",
            "============================================================\n",
            "              precision    recall  f1-score   support\n",
            "\n",
            "           0       0.75      0.11      0.19        56\n",
            "           1       0.69      0.98      0.81       113\n",
            "\n",
            "    accuracy                           0.69       169\n",
            "   macro avg       0.72      0.54      0.50       169\n",
            "weighted avg       0.71      0.69      0.60       169\n",
            "\n"
          ]
        }
      ]
    },
    {
      "cell_type": "markdown",
      "source": [
        "## (4) 분석 결과 정리"
      ],
      "metadata": {
        "id": "09NaeV5eKcmL"
      }
    },
    {
      "cell_type": "markdown",
      "source": [
        "### 4-1. coef값 시각화"
      ],
      "metadata": {
        "id": "j4w1e2_pKqMc"
      }
    },
    {
      "cell_type": "code",
      "source": [
        "# 길이가 짧은 선은 긍정과 부정 모두에 나타나는 단어\n",
        "\n",
        "plt.figure(figsize=(10,8))\n",
        "plt.bar(range(len(lr.coef_[0])), lr.coef_[0]);"
      ],
      "metadata": {
        "colab": {
          "base_uri": "https://localhost:8080/",
          "height": 483
        },
        "id": "07IWGEl2Kxnl",
        "outputId": "6313c906-3bda-49e9-bdfa-772587943500"
      },
      "execution_count": 36,
      "outputs": [
        {
          "output_type": "display_data",
          "data": {
            "text/plain": [
              "<Figure size 720x576 with 1 Axes>"
            ],
            "image/png": "[encoded data removed]"
          },
          "metadata": {
            "needs_background": "light"
          }
        }
      ]
    },
    {
      "cell_type": "markdown",
      "source": [
        "### 4-2. 긍정/부정 키워드 출력"
      ],
      "metadata": {
        "id": "sKIZJ4YtJir2"
      }
    },
    {
      "cell_type": "code",
      "source": [
        "print(sorted(((value, index) for index, value in enumerate(lr.coef_[0])), reverse=True)[:5])\n",
        "print(sorted(((value, index) for index, value in enumerate(lr.coef_[0])), reverse=True)[-5:])"
      ],
      "metadata": {
        "colab": {
          "base_uri": "https://localhost:8080/"
        },
        "id": "yAaRiNqVJkt2",
        "outputId": "aea35a88-848d-4342-e825-ed67bc52263e"
      },
      "execution_count": 37,
      "outputs": [
        {
          "output_type": "stream",
          "name": "stdout",
          "text": [
            "[(1.7691224266397971, 433), (1.3878850793706592, 1052), (1.2007646983461142, 851), (1.0215249342122492, 1064), (1.0055192060790836, 21)]\n",
            "[(-1.4041235862576724, 277), (-1.408591415749187, 1224), (-1.409799614990954, 477), (-1.4696392182077025, 445), (-1.5042014672958743, 1046)]\n"
          ]
        }
      ]
    },
    {
      "cell_type": "code",
      "source": [
        "coef_pos_index = sorted(((value, index) for index, value in enumerate(lr.coef_[0])), reverse=True)\n",
        "coef_neg_index = sorted(((value, index) for index, value in enumerate(lr.coef_[0])), reverse=False)"
      ],
      "metadata": {
        "id": "1g0g_3imJmB6"
      },
      "execution_count": 38,
      "outputs": []
    },
    {
      "cell_type": "code",
      "source": [
        "coef_pos_index[:10]"
      ],
      "metadata": {
        "colab": {
          "base_uri": "https://localhost:8080/"
        },
        "id": "rTMvdq5wJxxP",
        "outputId": "f544d343-fdfb-4252-d318-c21b388658bc"
      },
      "execution_count": 39,
      "outputs": [
        {
          "output_type": "execute_result",
          "data": {
            "text/plain": [
              "[(1.7691224266397971, 433),\n",
              " (1.3878850793706592, 1052),\n",
              " (1.2007646983461142, 851),\n",
              " (1.0215249342122492, 1064),\n",
              " (1.0055192060790836, 21),\n",
              " (0.9847306347712282, 324),\n",
              " (0.9452297173565747, 766),\n",
              " (0.9252635791954648, 576),\n",
              " (0.7922309699754648, 684),\n",
              " (0.7590199800263068, 523)]"
            ]
          },
          "metadata": {},
          "execution_count": 39
        }
      ]
    },
    {
      "cell_type": "code",
      "source": [
        "coef_neg_index[:10]"
      ],
      "metadata": {
        "colab": {
          "base_uri": "https://localhost:8080/"
        },
        "id": "b0gjOdfOJ3bG",
        "outputId": "fe404759-938b-447e-b286-5a786acad004"
      },
      "execution_count": 40,
      "outputs": [
        {
          "output_type": "execute_result",
          "data": {
            "text/plain": [
              "[(-1.5042014672958743, 1046),\n",
              " (-1.4696392182077025, 445),\n",
              " (-1.409799614990954, 477),\n",
              " (-1.408591415749187, 1224),\n",
              " (-1.4041235862576724, 277),\n",
              " (-1.2460518848338875, 895),\n",
              " (-1.132836086425915, 20),\n",
              " (-0.9631631986383313, 988),\n",
              " (-0.9348129488018039, 670),\n",
              " (-0.9136844482550546, 197)]"
            ]
          },
          "metadata": {},
          "execution_count": 40
        }
      ]
    },
    {
      "cell_type": "code",
      "source": [
        "# {벡터:단어} 맵핑\n",
        "\n",
        "vector_word_dictionary = {v: k for k, v in vect.vocabulary_.items()}"
      ],
      "metadata": {
        "id": "_P8EwV3YJ5SY"
      },
      "execution_count": 41,
      "outputs": []
    },
    {
      "cell_type": "code",
      "source": [
        "for index, (key, value) in enumerate(vector_word_dictionary.items()):\n",
        "    if index >= 10:\n",
        "        break\n",
        "    else:\n",
        "        print(index, key, value)"
      ],
      "metadata": {
        "colab": {
          "base_uri": "https://localhost:8080/"
        },
        "id": "jqbaJdTxKGx2",
        "outputId": "7878277e-60db-4020-8551-3199c8b440b6"
      },
      "execution_count": 42,
      "outputs": [
        {
          "output_type": "stream",
          "name": "stdout",
          "text": [
            "0 1057 최민식\n",
            "1 1106 파이송\n",
            "2 781 음원\n",
            "3 667 어쩌면\n",
            "4 588 스토리\n",
            "5 844 일지\n",
            "6 750 우리\n",
            "7 552 세상\n",
            "8 806 이야기\n",
            "9 269 동화\n"
          ]
        }
      ]
    },
    {
      "cell_type": "code",
      "source": [
        "for coef in coef_pos_index[:10]:\n",
        "    print(vector_word_dictionary[coef[1]], coef[0])"
      ],
      "metadata": {
        "colab": {
          "base_uri": "https://localhost:8080/"
        },
        "id": "_hNI3KPfKJZo",
        "outputId": "f3e5555b-86eb-4d13-cb50-954530757b29"
      },
      "execution_count": 43,
      "outputs": [
        {
          "output_type": "stream",
          "name": "stdout",
          "text": [
            "배우 1.7691224266397971\n",
            "최고 1.3878850793706592\n",
            "자극 1.2007646983461142\n",
            "추천 1.0215249342122492\n",
            "감동 1.0055192060790836\n",
            "마음 0.9847306347712282\n",
            "위로 0.9452297173565747\n",
            "수학 0.9252635791954648\n",
            "여운 0.7922309699754648\n",
            "생각 0.7590199800263068\n"
          ]
        }
      ]
    },
    {
      "cell_type": "code",
      "source": [
        "for coef in coef_neg_index[:10]:\n",
        "    print(vector_word_dictionary[coef[1]], coef[0])"
      ],
      "metadata": {
        "colab": {
          "base_uri": "https://localhost:8080/"
        },
        "id": "vqGQKjAZKQA4",
        "outputId": "efb6b0cb-bd37-4d4c-e6ea-94f5d0ab85c4"
      },
      "execution_count": 44,
      "outputs": [
        {
          "output_type": "stream",
          "name": "stdout",
          "text": [
            "초반 -1.5042014672958743\n",
            "별로 -1.4696392182077025\n",
            "북한 -1.409799614990954\n",
            "후반 -1.408591415749187\n",
            "드라마 -1.4041235862576724\n",
            "전개 -1.2460518848338875\n",
            "감독 -1.132836086425915\n",
            "중반 -0.9631631986383313\n",
            "억지 -0.9348129488018039\n",
            "노잼 -0.9136844482550546\n"
          ]
        }
      ]
    },
    {
      "cell_type": "markdown",
      "source": [
        "### 4-3. 텍스트 감정 분석 결과"
      ],
      "metadata": {
        "id": "KmaBkCzuK9Rl"
      }
    },
    {
      "cell_type": "markdown",
      "source": [
        "긍정적 반응 분석"
      ],
      "metadata": {
        "id": "JGtF6zGrwXv1"
      }
    },
    {
      "cell_type": "markdown",
      "source": [
        "긍정적인 리뷰를 남긴 사람들은 '최고', '감동', '생각' 등의 단어들을 가장 많이 사용했습니다. 이와 함께 많이 사용한 단어인 '자극', '배우', '연기력', '파이송' 등의 단어들을 고려하여 종합적으로 판단했을 때, 자극적이지 않으면서도 감동을 주는 스토리라인을 높게 평가했던 사람들이 긍정적으로 반응한 것으로 보입니다. 배우들의 연기력을 높게 평가했던 사람들이 많으며, 극중에 나온 '파이송'이 긍정적인 반응을 이끌어냈다는 점도 주목할 요소입니다."
      ],
      "metadata": {
        "id": "phgmWAhVwaSN"
      }
    },
    {
      "cell_type": "markdown",
      "source": [
        "부정적 반응 분석"
      ],
      "metadata": {
        "id": "WoRE6i4iyk-b"
      }
    },
    {
      "cell_type": "markdown",
      "source": [
        "부정적인 리뷰를 남긴 사람들은 '드라마', '별로', '전개' 등의 단어들을 가장 많이 사용했습니다. 영화의 초반/중반/후반부를 구분했던 리뷰가 많은 것으로 보았을 때, 부정적인 반응을 보였던 사람들 대부분 영화 전반에 걸친 불만보다는 일부 요소에 대한 불만족을 점수에 반영한 것으로 보입니다. 특히 기존에 TV에서 방영되었던 일부 드라마와 스토리 전개가 비슷하다는 점, 탈북자를 수학의 천재로 묘사하여 북한을 미화한 것으로 느껴지는 요소가 있다는 점 등이 부정적 반응을 이끌어낸 요소로 꼽혔습니다."
      ],
      "metadata": {
        "id": "C5W2jf_byrDv"
      }
    }
  ]
}